{
  "nbformat": 4,
  "nbformat_minor": 0,
  "metadata": {
    "colab": {
      "provenance": [],
      "authorship_tag": "ABX9TyPVuMbVAh22xHnFd7sJJWFF",
      "include_colab_link": true
    },
    "kernelspec": {
      "name": "python3",
      "display_name": "Python 3"
    },
    "language_info": {
      "name": "python"
    }
  },
  "cells": [
    {
      "cell_type": "markdown",
      "metadata": {
        "id": "view-in-github",
        "colab_type": "text"
      },
      "source": [
        "<a href=\"https://colab.research.google.com/github/Yamada8412/Prog2kakushin/blob/main/work2.ipynb\" target=\"_parent\"><img src=\"https://colab.research.google.com/assets/colab-badge.svg\" alt=\"Open In Colab\"/></a>"
      ]
    },
    {
      "cell_type": "markdown",
      "source": [
        "numpyとmatplotlibを利用して、楕円の中で球を打ち、20回楕円内を反射したときの軌道を描くプログラムを作成する"
      ],
      "metadata": {
        "id": "IGKx2hqbGoLY"
      }
    },
    {
      "cell_type": "code",
      "source": [
        "import numpy as np\n",
        "import matplotlib.pyplot as plt"
      ],
      "metadata": {
        "id": "92KNCxAeG9--"
      },
      "execution_count": 23,
      "outputs": []
    },
    {
      "cell_type": "markdown",
      "source": [
        "change_posi関数は、球が反射したときに、次に到達する座標を計算する関数です。\n",
        "\n",
        "引数は(次の場所に向かう方向(傾き)、現在の球の位置、a、b)\n",
        "a,bは楕円のx,y方向の大きさです"
      ],
      "metadata": {
        "id": "W0d4X8AQIvSF"
      }
    },
    {
      "cell_type": "code",
      "source": [
        "def change_posi(now_direc,now_posi,a,b):\n",
        "\n",
        "  new_posi = [None,None]\n",
        "\n",
        "  c = now_direc\n",
        "  d = -1 * now_direc * now_posi[0] + now_posi[1]\n",
        "\n",
        "  A = (1/a**2 + c**2/b**2)\n",
        "  B = 2 * c * d / b**2\n",
        "  C = (d**2 / b**2) -1\n",
        "  D = B**2 - 4 * A * C\n",
        "\n",
        "  x1 = (-B + D**(1/2)) / (2*A) #到達するx座標と現在いる座標がx1,x2\n",
        "  x2 = (-B - D**(1/2)) / (2*A)\n",
        "\n",
        "  #現在、x1とx2のどちらにいるか条件分岐\n",
        "  if round(now_posi[0],8) == round(x2,8):#コンピューター上では、5が5.00000001になったりして正しく計算できないので\n",
        "                                         #round関数で少数第8桁で丸め込む\n",
        "    new_posi[0] = x1\n",
        "    \n",
        "    #楕円のような円形の関数は、y>=0とy<0で、yのプラスマイナスが変わってくるので条件分岐 \n",
        "    if now_direc >= 0 and now_posi[1] <= 0:\n",
        "      if -a <=  now_posi[0] - now_posi[1] / now_direc <= a:\n",
        "        new_posi[1] = (b**2 - (x1**2 * b**2 / a**2)) ** (1/2)\n",
        "\n",
        "      else:\n",
        "        new_posi[1] = -(b**2 - (x1**2 * b**2 / a**2)) ** (1/2)\n",
        "\n",
        "    elif now_direc >= 0 and now_posi[1] > 0:\n",
        "      new_posi[1] = (b**2 - (x1**2 * b**2 / a**2)) ** (1/2)\n",
        "\n",
        "    elif now_direc < 0 and now_posi[1] <= 0:\n",
        "      new_posi[1] = -(b**2 - (x1**2 * b**2 / a**2)) ** (1/2)\n",
        "\n",
        "    else:\n",
        "      if -a <=  now_posi[0] - now_posi[1] / now_direc <= a:\n",
        "        new_posi[1] = -(b**2 - (x1**2 * b**2 / a**2)) ** (1/2)\n",
        "      else:\n",
        "        new_posi[1] = (b**2 - (x1**2 * b**2 / a**2)) ** (1/2)\n",
        "\n",
        "  else:\n",
        "    new_posi[0] = x2\n",
        "   \n",
        "    if now_direc >= 0 and now_posi[1] >= 0:\n",
        "      if -a <=  now_posi[0] - now_posi[1] / now_direc <= a:\n",
        "        new_posi[1] = -(b**2 - (x2**2 * b**2 / a**2)) ** (1/2)\n",
        "      else:\n",
        "        new_posi[1] = (b**2 - (x2**2 * b**2 / a**2)) ** (1/2)\n",
        "\n",
        "    elif now_direc >= 0 and now_posi[1] < 0:\n",
        "      new_posi[1] = -(b**2 - (x2**2 * b**2 / a**2)) ** (1/2)\n",
        "\n",
        "    elif now_direc < 0 and now_posi[1] >= 0:\n",
        "      new_posi[1] = (b**2 - (x2**2 * b**2 / a**2)) ** (1/2)\n",
        "\n",
        "    else:\n",
        "      if -a <=  now_posi[0] - now_posi[1] / now_direc <= a:\n",
        "        new_posi[1] = (b**2 - (x2**2 * b**2 / a**2)) ** (1/2)\n",
        "      else:\n",
        "        new_posi[1] = -(b**2 - (x2**2 * b**2 / a**2)) ** (1/2)\n",
        "\n",
        "  return new_posi#次に到達する座標"
      ],
      "metadata": {
        "id": "7Y9wXAvrG-BV"
      },
      "execution_count": 24,
      "outputs": []
    },
    {
      "cell_type": "markdown",
      "source": [
        "reflect_direc関数は、次に向かう方向(角度)を計算する関数です。\n",
        "\n",
        "引数は、上で求めた次に到達する座標、現在向いている方向(傾き)、a、b"
      ],
      "metadata": {
        "id": "6NtyBb1pKnC0"
      }
    },
    {
      "cell_type": "code",
      "source": [
        "def reflect_direc(new_posi,now_direc,a,b):\n",
        "\n",
        "  #degは次到達する座標の接線の傾き\n",
        "  #vert_degは、degの垂線の傾き\n",
        "\n",
        "  if new_posi[0] == 0:#楕円のx=0の点の接線の傾きは０、接線の垂線は∞(ここでは10**13)になる\n",
        "    deg = 0            \n",
        "    vert_deg = 10**13  \n",
        "\n",
        "  elif new_posi[1] == 0:\n",
        "    deg = 10**13\n",
        "    vert_deg = 0\n",
        "\n",
        "  else:\n",
        "    deg = -b**2 * new_posi[0]/(a**2 * new_posi[1])\n",
        "    vert_deg = -1/deg\n",
        "\n",
        "  if np.degrees(np.arctan(deg)) < 0:#楕円の接線の傾きを度に変換 0<= new_deg <= 180\n",
        "    new_deg = 180 + np.degrees(np.arctan(deg))\n",
        "  else:\n",
        "    new_deg = np.degrees(np.arctan(deg))\n",
        "  \n",
        "  if np.degrees(np.arctan(now_direc)) < 0:#現在向いている方向(傾き)を度に変換 0<= new_direc <=180\n",
        "    new_direc = 180 + np.degrees(np.arctan(now_direc))\n",
        "  else:\n",
        "    new_direc = np.degrees(np.arctan(now_direc))\n",
        "  \n",
        "  theta = new_deg - new_direc \n",
        "  #接点で反射した後に向かう方向(角度)は、どこで反射するかで変わるので条件分岐\n",
        "  if deg >= 0 and new_posi[0] <= 0:\n",
        "    reflect_direc = new_deg + theta -180\n",
        "  elif deg >= 0 and new_posi[0] >= 0:\n",
        "    reflect_direc = theta + new_deg\n",
        "  elif deg <= 0 and new_posi[0] >= 0:\n",
        "    reflect_direc = theta + new_deg\n",
        "  else:\n",
        "    reflect_direc = theta - 180 + new_deg\n",
        "\n",
        "  return_direc = np.tan(np.radians(reflect_direc))\n",
        "  \n",
        "  return return_direc"
      ],
      "metadata": {
        "id": "f1hP77VQG-Dk"
      },
      "execution_count": 25,
      "outputs": []
    },
    {
      "cell_type": "markdown",
      "source": [
        "下のプログラムで実際にプロットします"
      ],
      "metadata": {
        "id": "I26pwo7kOAni"
      }
    },
    {
      "cell_type": "code",
      "source": [
        "now_direc = np.tan(np.radians(int(input('打ち出す角度を設定してください(0から180):'))))\n",
        "\n",
        "a = int(input('楕円のx軸方向の長さを設定してください：'))\n",
        "b = int(input('楕円のy軸方向の長さを設定してください：'))\n",
        "\n",
        "first_posi = [0,-b]#球を打ち出す初期位置を設定\n",
        "cha = change_posi(now_direc,first_posi,a,b)\n",
        "dir = reflect_direc(cha,now_direc,a,b)#次の場所に向かうための方向を計算\n",
        "\n",
        "posi = np.array([[0],[-b]])\n",
        "\n",
        "for _ in range(0,20): #20回球を反射させます\n",
        "\n",
        "  posi = np.append(posi,np.array([[cha[0]],[cha[1]]]),axis = 1)\n",
        "  cha = change_posi(dir,cha,a,b)\n",
        "  dir = reflect_direc(cha,dir,a,b)\n",
        "\n",
        "t = np.linspace(-a,a,100)#楕円の作成\n",
        "y = (b**2 - (t**2 * b**2 / a**2)) ** (1/2)\n",
        "y1 = -1 * (b**2 - (t**2 * b**2 / a**2)) ** (1/2)\n",
        "\n",
        "plt.plot(t,y,c = 'b')#楕円をプロット\n",
        "plt.plot(t,y1,c = 'b')\n",
        "\n",
        "plt.grid()\n",
        "plt.plot(posi[0,:],posi[1,:])\n",
        "plt.axis('equal')\n",
        "plt.show()"
      ],
      "metadata": {
        "id": "xTmRM31XG-Ft",
        "outputId": "568b6627-2f9c-4da1-da64-58f4dc6addb4",
        "colab": {
          "base_uri": "https://localhost:8080/",
          "height": 319
        }
      },
      "execution_count": 29,
      "outputs": [
        {
          "name": "stdout",
          "output_type": "stream",
          "text": [
            "打ち出す角度を設定してください(0から180):30\n",
            "楕円のx軸方向の長さを設定してください：1\n",
            "楕円のy軸方向の長さを設定してください：3\n"
          ]
        },
        {
          "output_type": "display_data",
          "data": {
            "text/plain": [
              "<Figure size 432x288 with 1 Axes>"
            ],
            "image/png": "[encoded data removed]"
          },
          "metadata": {
            "needs_background": "light"
          }
        }
      ]
    },
    {
      "cell_type": "markdown",
      "source": [
        "円形で108の角度で打ち出すと星形になったりしますが、自分のお気に入りはa =3,b=2,80度で打ち出したときに、カーボンナノチューブみたいのものができるところです。(反射回数は60回)"
      ],
      "metadata": {
        "id": "VKm_6FBuOYej"
      }
    },
    {
      "cell_type": "code",
      "source": [
        "now_direc = np.tan(np.radians(80))\n",
        "\n",
        "a = 3\n",
        "b = 2\n",
        "\n",
        "first_posi = [0,-b]\n",
        "cha = change_posi(now_direc,first_posi,a,b)\n",
        "dir = reflect_direc(cha,now_direc,a,b)\n",
        "\n",
        "posi = np.array([[0],[-b]])\n",
        "\n",
        "for _ in range(0,60):\n",
        "\n",
        "  posi = np.append(posi,np.array([[cha[0]],[cha[1]]]),axis = 1)\n",
        "  cha = change_posi(dir,cha,a,b)\n",
        "  dir = reflect_direc(cha,dir,a,b)\n",
        "\n",
        "t = np.linspace(-a,a,100)\n",
        "y = (b**2 - (t**2 * b**2 / a**2)) ** (1/2)\n",
        "y1 = -1 * (b**2 - (t**2 * b**2 / a**2)) ** (1/2)\n",
        "\n",
        "plt.plot(t,y,c = 'b')\n",
        "plt.plot(t,y1,c = 'b')\n",
        "\n",
        "plt.grid()\n",
        "plt.plot(posi[0,:],posi[1,:])\n",
        "plt.axis('equal')\n",
        "plt.show()"
      ],
      "metadata": {
        "id": "-_ld0OI-G-H0",
        "outputId": "b11c75cd-a088-4800-98d6-6535d8e4d5b6",
        "colab": {
          "base_uri": "https://localhost:8080/",
          "height": 265
        }
      },
      "execution_count": 28,
      "outputs": [
        {
          "output_type": "display_data",
          "data": {
            "text/plain": [
              "<Figure size 432x288 with 1 Axes>"
            ],
            "image/png": "[encoded data removed]"
          },
          "metadata": {
            "needs_background": "light"
          }
        }
      ]
    },
    {
      "cell_type": "code",
      "source": [],
      "metadata": {
        "id": "gytYfuOgG-KL"
      },
      "execution_count": 27,
      "outputs": []
    }
  ]
}