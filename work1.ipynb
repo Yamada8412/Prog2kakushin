{
  "nbformat": 4,
  "nbformat_minor": 0,
  "metadata": {
    "colab": {
      "provenance": [],
      "authorship_tag": "ABX9TyPnyuKwNHEyK6NW7D+RaKEC",
      "include_colab_link": true
    },
    "kernelspec": {
      "name": "python3",
      "display_name": "Python 3"
    },
    "language_info": {
      "name": "python"
    }
  },
  "cells": [
    {
      "cell_type": "markdown",
      "metadata": {
        "id": "view-in-github",
        "colab_type": "text"
      },
      "source": [
        "<a href=\"https://colab.research.google.com/github/Yamada8412/Prog2kakushin/blob/main/work1.ipynb\" target=\"_parent\"><img src=\"https://colab.research.google.com/assets/colab-badge.svg\" alt=\"Open In Colab\"/></a>"
      ]
    },
    {
      "cell_type": "code",
      "execution_count": null,
      "metadata": {
        "id": "6BOpB4WwrUyc"
      },
      "outputs": [],
      "source": [
        "#pandasで適当なcsvファイルを読み込んでデータ解析をする"
      ]
    },
    {
      "cell_type": "code",
      "source": [
        "import pandas as pd"
      ],
      "metadata": {
        "id": "vi5m4e1pCkYC"
      },
      "execution_count": null,
      "outputs": []
    },
    {
      "cell_type": "code",
      "source": [
        "def calc_len(p):\n",
        "  global srg\n",
        "\n",
        "  if len(p) <= 3:\n",
        "    return False\n",
        "  else:\n",
        "    # 45-2 67-4 78-7 89-11 \n",
        "\n",
        "\n",
        "def calc_sca(p):\n",
        "  p_list = list(p)\n",
        "\n",
        "  up_al = list()\n",
        "  un_al = list()\n",
        "  num   = list()\n",
        "  sym   = list()\n",
        "\n",
        "  for i in range(len(p_list)):\n",
        "    if p_list[i].isnumeric:\n",
        "      up_al.append(i)\n",
        "    \n",
        "    elif p_list[i].isalpha:\n",
        "      \n",
        "\n",
        "\n"
      ],
      "metadata": {
        "id": "fn9sgXUXCkae"
      },
      "execution_count": null,
      "outputs": []
    },
    {
      "cell_type": "code",
      "source": [],
      "metadata": {
        "id": "A9oUgaGICkd6",
        "outputId": "b492dbc7-4469-43c1-d848-27d8dc797cfa",
        "colab": {
          "base_uri": "https://localhost:8080/"
        }
      },
      "execution_count": 12,
      "outputs": [
        {
          "output_type": "stream",
          "name": "stdout",
          "text": [
            "False\n"
          ]
        }
      ]
    },
    {
      "cell_type": "code",
      "source": [],
      "metadata": {
        "id": "xw9wRMG4Cke7"
      },
      "execution_count": null,
      "outputs": []
    }
  ]
}