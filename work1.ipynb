{
  "nbformat": 4,
  "nbformat_minor": 0,
  "metadata": {
    "colab": {
      "provenance": [],
      "authorship_tag": "ABX9TyMC/em+33mvsYZdsrXpXAl5",
      "include_colab_link": true
    },
    "kernelspec": {
      "name": "python3",
      "display_name": "Python 3"
    },
    "language_info": {
      "name": "python"
    }
  },
  "cells": [
    {
      "cell_type": "markdown",
      "metadata": {
        "id": "view-in-github",
        "colab_type": "text"
      },
      "source": [
        "<a href=\"https://colab.research.google.com/github/Yamada8412/Prog2kakushin/blob/main/work1.ipynb\" target=\"_parent\"><img src=\"https://colab.research.google.com/assets/colab-badge.svg\" alt=\"Open In Colab\"/></a>"
      ]
    },
    {
      "cell_type": "code",
      "execution_count": null,
      "metadata": {
        "id": "6BOpB4WwrUyc"
      },
      "outputs": [],
      "source": [
        "#pandasで適当なcsvファイルを読み込んでデータ解析をする"
      ]
    },
    {
      "cell_type": "code",
      "source": [
        "import pandas as pd\n",
        "df = pd.read_excel('パスワード強度判定1.xlsx')"
      ],
      "metadata": {
        "id": "vi5m4e1pCkYC"
      },
      "execution_count": 2,
      "outputs": []
    },
    {
      "cell_type": "code",
      "source": [
        "def calc_len(p):\n",
        "  global srg\n",
        "\n",
        "  if len(p) <= 4:\n",
        "    #桁が大きくなるほど指数関数的に強度が増していく\n",
        "    return False\n",
        "  else:\n",
        "    # 45-2 67-4 78-7 89-11 \n",
        "    return\n",
        "\n",
        "\n",
        "def calc_sca(p):\n",
        "  #違う種類の文字の散らばり具合を調べる関数\n",
        "  p_list = list(p)\n",
        "\n",
        "  up_al = list()\n",
        "  un_al = list()\n",
        "  num   = list()\n",
        "  sym   = list()\n",
        "\n",
        "  for i in range(len(p_list)):\n",
        "    if p_list[i].isnumeric():\n",
        "      num.append(i)\n",
        "    elif p_list[i].isupper():\n",
        "      up_al.append(i)\n",
        "    elif (p_list[i].islower()):\n",
        "      un_al.append(i)\n",
        "    else:\n",
        "      sym.append(i)\n",
        "    \n",
        "  sca_list = [up_al,un_al,num,sym] #[大英字、小英字、数字。記号]\n",
        "  bool_list = [False] * 4\n",
        "\n",
        "  for i in range(4):\n",
        "    for x in range(len(sca_list[i]) - 1):\n",
        "      if sca_list[i][x + 1] - sca_list[i][x] != 1:\n",
        "        bool_list[i] = True\n",
        "        break\n",
        "\n",
        "  #Yamada1224だと、Y,amada,1224がそれぞれ束になっているので >> [False,False,False,False]\n",
        "  #Ya12mada24だと、12と24,aとmadaがそれぞれ離れているので >> [False,True,True,False]\n",
        "  #A!6wは4種類の文字が含まれているが、それぞれ一つずつしかないので >> [False,False,False,False]\n",
        "  return bool_list\n",
        "\n",
        "def calc_pandas(p):\n",
        "  #辞書内のパスワードで分析\n",
        "  return\n",
        "\n",
        "def calc_str_kinds(p):\n",
        "  #文字の種類を評価\n",
        "\n",
        "\n"
      ],
      "metadata": {
        "id": "fn9sgXUXCkae"
      },
      "execution_count": 13,
      "outputs": []
    },
    {
      "cell_type": "code",
      "source": [
        "sym_list = [chr(i) for i in range(33,48)]\n",
        "print(sym_list)"
      ],
      "metadata": {
        "id": "bNO7lDHWfLqI",
        "outputId": "745094cb-82ac-4809-f570-c1ed30a70906",
        "colab": {
          "base_uri": "https://localhost:8080/"
        }
      },
      "execution_count": 26,
      "outputs": [
        {
          "output_type": "stream",
          "name": "stdout",
          "text": [
            "['!', '\"', '#', '$', '%', '&', \"'\", '(', ')', '*', '+', ',', '-', '.', '/']\n"
          ]
        }
      ]
    },
    {
      "cell_type": "code",
      "source": [
        "A = [1,2,3,5,6]\n",
        "B = [3]\n",
        "C = [5,8]\n",
        "D = []\n",
        "\n",
        "L = [A,B,C,D]\n",
        "\n",
        "for i in L:\n",
        "  for x in range(len(i)-1):\n",
        "    if i[x + 1] - i[x] != 1:\n",
        "      print(f'{i},{x}ok')\n",
        "      break"
      ],
      "metadata": {
        "colab": {
          "base_uri": "https://localhost:8080/"
        },
        "id": "A9oUgaGICkd6",
        "outputId": "22f29dbb-c3be-4ba1-e7ad-b39ea7fc7d08"
      },
      "execution_count": 8,
      "outputs": [
        {
          "output_type": "stream",
          "name": "stdout",
          "text": [
            "[1, 2, 3, 5, 6],2ok\n",
            "[5, 8],0ok\n"
          ]
        }
      ]
    },
    {
      "cell_type": "code",
      "source": [
        "p = input()\n",
        "print(calc_sca(p))"
      ],
      "metadata": {
        "id": "FZV0KvZnaiDV",
        "outputId": "3be87ef6-3230-497f-c798-8226265e6b1a",
        "colab": {
          "base_uri": "https://localhost:8080/"
        }
      },
      "execution_count": 20,
      "outputs": [
        {
          "output_type": "stream",
          "name": "stdout",
          "text": [
            "\n",
            "[False, False, False, False]\n"
          ]
        }
      ]
    }
  ]
}